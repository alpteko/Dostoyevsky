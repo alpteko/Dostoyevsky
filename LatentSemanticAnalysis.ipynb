{
 "cells": [
  {
   "cell_type": "markdown",
   "metadata": {},
   "source": [
    "author: Alptekin Orbay"
   ]
  },
  {
   "cell_type": "markdown",
   "metadata": {},
   "source": [
    "# Dostoyevsky Novels Latent Semantic Analysis"
   ]
  },
  {
   "cell_type": "markdown",
   "metadata": {},
   "source": [
    "## Preprocessing and Corpus Preparation"
   ]
  },
  {
   "cell_type": "code",
   "execution_count": 103,
   "metadata": {
    "collapsed": false,
    "deletable": true,
    "editable": true
   },
   "outputs": [
    {
     "name": "stdout",
     "output_type": "stream",
     "text": [
      "king_lear.txt\n",
      "Closed\n",
      "merchant_of_venice.txt\n",
      "Closed\n",
      "othello.txt\n",
      "Closed\n",
      "RomeoAndJuliet.txt\n",
      "Closed\n",
      "macbeth.txt\n",
      "Closed\n",
      "hamlet.txt\n",
      "Closed\n"
     ]
    }
   ],
   "source": [
    "%matplotlib inline\n",
    "import nltk\n",
    "import string\n",
    "import os\n",
    "import re\n",
    "from sklearn.feature_extraction.text import TfidfVectorizer,CountVectorizer\n",
    "from nltk.stem.porter import PorterStemmer\n",
    "from matplotlib import pyplot as plt\n",
    "import numpy as np\n",
    "\n",
    "root_dir = 'SheakspearDS'\n",
    "token_dict = {}\n",
    "stemmer = PorterStemmer()\n",
    "f_list = []\n",
    "\n",
    "def stem_tokens(tokens, stemmer):\n",
    "    stemmed = []\n",
    "    regex = re.compile('[^a-zA-Z]')\n",
    "    for item in tokens:\n",
    "        item = regex.sub('', item)\n",
    "        #stemmed.append(stemmer.stem(item))        \n",
    "        stemmed.append(item)\n",
    "    return stemmed\n",
    "\n",
    "def tokenize(text):\n",
    "    tokens = nltk.word_tokenize(text)\n",
    "    stems = stem_tokens(tokens, stemmer)\n",
    "    return stems\n",
    "\n",
    "for file in os.listdir(root_dir):\n",
    "        if file.endswith(\".txt\"):\n",
    "            file_path = root_dir + '/' + file\n",
    "            f = open(file_path, 'r')\n",
    "            print(file)\n",
    "            text = f.read()\n",
    "            f.close()\n",
    "            print('Closed')\n",
    "            lowers = text.lower()\n",
    "            no_punctuation = lowers.translate(string.punctuation)\n",
    "            token_dict[file] = no_punctuation\n",
    "            f_list.append(file)\n",
    "T = len(f_list)"
   ]
  },
  {
   "cell_type": "markdown",
   "metadata": {},
   "source": [
    "## Creating Document - Terms TF IDF Matrix\n",
    "$TF$: Term Frequency  \n",
    "$IDF$: Inverse Document Frequency  \n",
    "$V$ = Vocablary Size  \n",
    "$D$ = Total Number of Documents  \n",
    "$TFIDF$ resulting matrix $V$ by $D$.\n",
    "$$\n",
    "TF(i, j) = \\frac{t_{ij}}{\\sum_{i=0}^{V}t_{ij}} \\\\\n",
    "IDF(i) = \\ln\\left(\\frac{D}{\\sum_{j=0}^{D}t_i \\in d_j} \\right) \\\\\n",
    "TFIDF(i,j) = TF(i, j) * IDF(i)\n",
    "$$"
   ]
  },
  {
   "cell_type": "code",
   "execution_count": 104,
   "metadata": {
    "collapsed": false,
    "deletable": true,
    "editable": true
   },
   "outputs": [
    {
     "name": "stdout",
     "output_type": "stream",
     "text": [
      "Matrix Created.\n"
     ]
    }
   ],
   "source": [
    "tfidf = TfidfVectorizer(tokenizer=tokenize, stop_words='english')\n",
    "tfs = tfidf.fit_transform(token_dict.values())\n",
    "feature_names = tfidf.get_feature_names()\n",
    "print('Matrix Created.')"
   ]
  },
  {
   "cell_type": "markdown",
   "metadata": {},
   "source": [
    "## SVD\n",
    "$$ A_{VxD} = U_{VxV}  \\Sigma_{VxD}   V_{DxD}^* $$\n",
    "## Reduced SVD\n",
    "\\begin{align}\n",
    "A_{VxD} &= U_{VxD}  \\Sigma_{DxD}   V_{DxD}^* \\\\ \n",
    "A &= U \\Sigma V^* \\\\ \n",
    "A V &= U \\Sigma \\\\\n",
    "A v_i &= u_i * \\sigma_i \\\\\n",
    "\\end{align}\n",
    "### Low Rank Approximations\n",
    "\\begin{align}\n",
    "\\sigma_1 > \\sigma_2 &> ... > \\sigma_r \\\\\n",
    "A_k &= \\sum_{i=1}^{k}\\sigma_i u_i v_i^* \\\\\n",
    "A_k = A_{VxD} &= U_{Vxk}  \\Sigma_{kxk}   V_{kxD}^* \\\\\n",
    "\\min\\|A - A_k \\|_2 &= \\sigma_{k+1}\\\\\n",
    "A - A_k  &=\\sum_{i=k+1}^{r}\\sigma_i u_i v_i^* \\\\\n",
    "\\end{align}\n",
    "## Example"
   ]
  },
  {
   "cell_type": "code",
   "execution_count": 105,
   "metadata": {
    "collapsed": false
   },
   "outputs": [
    {
     "data": {
      "image/png": "[encoded data removed]",
      "text/plain": [
       "<matplotlib.figure.Figure at 0x118132080>"
      ]
     },
     "metadata": {},
     "output_type": "display_data"
    },
    {
     "data": {
      "image/png": "[encoded data removed]",
      "text/plain": [
       "<matplotlib.figure.Figure at 0x117b046a0>"
      ]
     },
     "metadata": {},
     "output_type": "display_data"
    },
    {
     "name": "stdout",
     "output_type": "stream",
     "text": [
      "[  3.34048088e+00   3.28086490e+00   2.34051394e+00   1.41009813e+00\n",
      "   2.56214934e-15]\n"
     ]
    }
   ],
   "source": [
    "import numpy as np\n",
    "Sz = 5\n",
    "A = np.random.randn(Sz*2,Sz)\n",
    "U, S_1, V = np.linalg.svd(A, full_matrices=False)\n",
    "plt.figure(0);\n",
    "plt.stem(S_1);\n",
    "plt.title('Singular Values')\n",
    "S = np.diag(S_1)\n",
    "plt.figure(1)\n",
    "app = np.zeros(Sz)\n",
    "for i in range(Sz):\n",
    "    V_t =V[0:i+1,:]\n",
    "    A_i = np.dot(np.dot(U[:,0:i+1],S[0:i+1,0:i+1] ),V_t)\n",
    "    app[i] = np.linalg.norm(A-A_i,2);\n",
    "plt.plot(app)\n",
    "plt.plot(S_1[1:Sz+1],'*')\n",
    "plt.title('Low Rank Approximation Errors')\n",
    "plt.show()\n",
    "print(app)"
   ]
  },
  {
   "cell_type": "code",
   "execution_count": 106,
   "metadata": {
    "collapsed": false,
    "deletable": true,
    "editable": true
   },
   "outputs": [
    {
     "name": "stdout",
     "output_type": "stream",
     "text": [
      "SVD is done.\n"
     ]
    },
    {
     "data": {
      "text/plain": [
       "<matplotlib.text.Text at 0x11a7f0dd8>"
      ]
     },
     "execution_count": 106,
     "metadata": {},
     "output_type": "execute_result"
    },
    {
     "data": {
      "image/png": "[encoded data removed]",
      "text/plain": [
       "<matplotlib.figure.Figure at 0x11a781a90>"
      ]
     },
     "metadata": {},
     "output_type": "display_data"
    }
   ],
   "source": [
    "matrix = tfs.toarray()\n",
    "U, s, V = np.linalg.svd(matrix, full_matrices=False)\n",
    "print('SVD is done.')\n",
    "plt.figure(2);\n",
    "plt.stem(s/max(s));\n",
    "plt.title('Singular Values')"
   ]
  },
  {
   "cell_type": "markdown",
   "metadata": {},
   "source": [
    "## Plotting Latent Features"
   ]
  },
  {
   "cell_type": "code",
   "execution_count": 110,
   "metadata": {
    "collapsed": false,
    "deletable": true,
    "editable": true
   },
   "outputs": [
    {
     "data": {
      "image/png": "[encoded data removed]",
      "text/plain": [
       "<matplotlib.figure.Figure at 0x1182ddf98>"
      ]
     },
     "metadata": {},
     "output_type": "display_data"
    }
   ],
   "source": [
    "plt.figure(3)\n",
    "U = np.dot(U, np.diag(s))\n",
    "a = U[:,0:2]\n",
    "for i in range(T):\n",
    "    d = np.sqrt(a[i,0]*a[i,0] + a[i,1]*a[i,1])\n",
    "    plt.plot(a[i,0],'*',label=f_list[i])\n",
    "plt.legend(loc='upper left', prop={'size':10}, bbox_to_anchor=(1,1))\n",
    "plt.show()"
   ]
  },
  {
   "cell_type": "code",
   "execution_count": null,
   "metadata": {
    "collapsed": true
   },
   "outputs": [],
   "source": []
  }
 ],
 "metadata": {
  "kernelspec": {
   "display_name": "Python 3",
   "language": "python",
   "name": "python3"
  },
  "language_info": {
   "codemirror_mode": {
    "name": "ipython",
    "version": 3
   },
   "file_extension": ".py",
   "mimetype": "text/x-python",
   "name": "python",
   "nbconvert_exporter": "python",
   "pygments_lexer": "ipython3",
   "version": "3.6.0"
  }
 },
 "nbformat": 4,
 "nbformat_minor": 2
}
