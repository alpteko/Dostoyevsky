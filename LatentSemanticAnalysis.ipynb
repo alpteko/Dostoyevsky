{
 "cells": [
  {
   "cell_type": "code",
   "execution_count": 15,
   "metadata": {
    "collapsed": false,
    "deletable": true,
    "editable": true
   },
   "outputs": [
    {
     "name": "stdout",
     "output_type": "stream",
     "text": [
      "TheBrothersKaramazov.txt\n",
      "CrimeAndPunishment.txt\n",
      "Idiot.txt\n",
      "NotesFromTheUnderground.txt\n",
      "TheGrandInquisitor.txt\n",
      "TheDevils.txt\n",
      "PoorFolk.txt\n",
      "TheGambler.txt\n"
     ]
    }
   ],
   "source": [
    "%matplotlib inline\n",
    "import nltk\n",
    "import string\n",
    "import os\n",
    "import re\n",
    "from sklearn.feature_extraction.text import TfidfVectorizer,CountVectorizer\n",
    "from nltk.stem.porter import PorterStemmer\n",
    "from matplotlib import pyplot as plt\n",
    "import numpy as np\n",
    "\n",
    "root_dir = 'Dostoyevsky'\n",
    "token_dict = {}\n",
    "stemmer = PorterStemmer()\n",
    "f_list = []\n",
    "\n",
    "def stem_tokens(tokens, stemmer):\n",
    "    stemmed = []\n",
    "    regex = re.compile('[^a-zA-Z]')\n",
    "    for item in tokens:\n",
    "        item = regex.sub('', item)\n",
    "        stemmed.append(stemmer.stem(item))        \n",
    "        #stemmed.append(item)\n",
    "    return stemmed\n",
    "\n",
    "def tokenize(text):\n",
    "    tokens = nltk.word_tokenize(text)\n",
    "    stems = stem_tokens(tokens, stemmer)\n",
    "    return stems\n",
    "\n",
    "for file in os.listdir(root_dir):\n",
    "        file_path = root_dir + '/' + file\n",
    "        f = open(file_path, 'r')\n",
    "        text = f.read()\n",
    "        lowers = text.lower()\n",
    "        no_punctuation = lowers.translate(string.punctuation)\n",
    "        print(file)\n",
    "        token_dict[file] = no_punctuation\n",
    "        f_list.append(file)\n",
    "T = len(f_list)"
   ]
  },
  {
   "cell_type": "code",
   "execution_count": 16,
   "metadata": {
    "collapsed": false
   },
   "outputs": [
    {
     "name": "stdout",
     "output_type": "stream",
     "text": [
      "Matrix Created.\n"
     ]
    }
   ],
   "source": [
    "tfidf = TfidfVectorizer(tokenizer=tokenize, stop_words='english')\n",
    "tfs = tfidf.fit_transform(token_dict.values())\n",
    "feature_names = tfidf.get_feature_names()\n",
    "print('Matrix Created.')"
   ]
  },
  {
   "cell_type": "code",
   "execution_count": 17,
   "metadata": {
    "collapsed": false
   },
   "outputs": [
    {
     "name": "stdout",
     "output_type": "stream",
     "text": [
      "SVD is done.\n"
     ]
    }
   ],
   "source": [
    "matrix = tfs.toarray()\n",
    "U, s, V = np.linalg.svd(matrix, full_matrices=False)\n",
    "print('SVD is done.')"
   ]
  },
  {
   "cell_type": "code",
   "execution_count": 19,
   "metadata": {
    "collapsed": false,
    "deletable": true,
    "editable": true
   },
   "outputs": [
    {
     "name": "stdout",
     "output_type": "stream",
     "text": [
      "[ 1.          0.04632318  0.02919468  0.02764384  0.02267207  0.0208209\n",
      "  0.01881484  0.01775561]\n"
     ]
    },
    {
     "data": {
      "image/png": "[encoded data removed]",
      "text/plain": [
       "<matplotlib.figure.Figure at 0x11a5a5be0>"
      ]
     },
     "metadata": {},
     "output_type": "display_data"
    }
   ],
   "source": [
    "print(s/max(s))\n",
    "U = U * s\n",
    "a = U[:,1:3]\n",
    "for i in range(T):\n",
    "    d = np.sqrt(a[i,0]*a[i,0] + a[i,1]*a[i,1])\n",
    "    plt.plot(a[i,0]/d,a[i,1]/d,'*',label=f_list[i])\n",
    "plt.legend(loc='upper left', prop={'size':10}, bbox_to_anchor=(1,1))\n",
    "plt.show()"
   ]
  },
  {
   "cell_type": "code",
   "execution_count": null,
   "metadata": {
    "collapsed": true
   },
   "outputs": [],
   "source": []
  }
 ],
 "metadata": {
  "kernelspec": {
   "display_name": "Python 3",
   "language": "python",
   "name": "python3"
  },
  "language_info": {
   "codemirror_mode": {
    "name": "ipython",
    "version": 3
   },
   "file_extension": ".py",
   "mimetype": "text/x-python",
   "name": "python",
   "nbconvert_exporter": "python",
   "pygments_lexer": "ipython3",
   "version": "3.6.0"
  }
 },
 "nbformat": 4,
 "nbformat_minor": 2
}
